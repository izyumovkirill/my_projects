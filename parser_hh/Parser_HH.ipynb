{
 "cells": [
  {
   "cell_type": "code",
   "execution_count": 7,
   "metadata": {},
   "outputs": [
    {
     "name": "stderr",
     "output_type": "stream",
     "text": [
      "100%|██████████| 20/20 [00:00<00:00, 1333.18it/s]\n"
     ]
    },
    {
     "name": "stdout",
     "output_type": "stream",
     "text": [
      "Парсинг выполнен в 2023-03-22 18:10:55.031684\n",
      "json не найден!\n"
     ]
    },
    {
     "name": "stderr",
     "output_type": "stream",
     "text": [
      "C:\\Users\\kiril\\AppData\\Local\\Temp\\ipykernel_17104\\1601645675.py:51: FutureWarning: The default value of regex will change from True to False in a future version.\n",
      "  df['url'] = df['url'].str.replace('https://api.hh.ru/vacancies/', 'https://hh.ru/vacancy/')\n"
     ]
    }
   ],
   "source": [
    "import pandas as pd\n",
    "import json\n",
    "import requests\n",
    "from tqdm import tqdm\n",
    "import time\n",
    "from df2gspread import df2gspread as d2g\n",
    "from oauth2client.service_account import ServiceAccountCredentials\n",
    "from concurrent.futures import ThreadPoolExecutor, as_completed\n",
    "import gspread\n",
    "\n",
    "job_title = \"'Аналитик данных' and 'data analyst'\"\n",
    "area = 1\n",
    "\n",
    "\n",
    "def get_vacancies(page):\n",
    "    params = {\n",
    "        'text': job_title,\n",
    "        'area': area,\n",
    "        'page': page,\n",
    "        'per_page': 100\n",
    "    }\n",
    "    req = requests.get('https://api.hh.ru/vacancies', params)\n",
    "    req.raise_for_status()\n",
    "    data = req.json()\n",
    "    req.close()\n",
    "    return data['items']\n",
    "\n",
    "\n",
    "with ThreadPoolExecutor(max_workers=10) as executor:\n",
    "    futures = [executor.submit(get_vacancies, page) for page in tqdm(range(0, 20))]\n",
    "    data = []\n",
    "    for future in as_completed(futures):\n",
    "        data.extend(future.result())\n",
    "\n",
    "df = pd.json_normalize(data).rename(columns=lambda c: c.replace('.', '_'))\n",
    "\n",
    "df = df[['id', 'name',\n",
    "         'published_at',\n",
    "         'url',\n",
    "         'area_name',\n",
    "         'salary_from',\n",
    "         'salary_to',\n",
    "         'salary_currency',\n",
    "         'employer_name',\n",
    "         'employer_url',\n",
    "         'snippet_requirement',\n",
    "         'snippet_responsibility',\n",
    "         'address_raw', 'address_lat',\n",
    "         'address_lng', 'address_metro_station_name']]\n",
    "\n",
    "df['url'] = df['url'].str.replace('https://api.hh.ru/vacancies/', 'https://hh.ru/vacancy/')\n",
    "df['url'] = df['url'].str.split('?').str[0]\n",
    "\n",
    "\n",
    "\n",
    "\n",
    "def highlighttext(column):\n",
    "    return column.str.replace('[<\\>\\/]', '', regex=True).str.replace('highlighttext', '', regex=True)\n",
    "\n",
    "\n",
    "df.snippet_responsibility = highlighttext(df.snippet_responsibility)\n",
    "df.snippet_requirement = highlighttext(df.snippet_requirement)\n",
    "\n",
    "timestr = time.strftime(\"%Y%m%d-%H%M%S\")\n",
    "csv_name = job_title + \".csv\"\n",
    "csv_name_with_timestamp = job_title + timestr + \".csv\"\n",
    "df.to_csv(csv_name, index=False)\n",
    "print('Парсинг выполнен' + ' в', pd.Timestamp.now())\n",
    "# Выгрузка в Google Sheets\n",
    "scope = ['https://spreadsheets.google.com/feeds',\n",
    "         'https://www.googleapis.com/auth/drive']\n",
    "\n",
    "my_mail = 'kirill.st.ks@gmail.com'  # почта\n",
    "path_to_credentials = 'crdentials.json'\n",
    "\n",
    "try:\n",
    "    # Authorization\n",
    "    credentials = ServiceAccountCredentials.from_json_keyfile_name(\n",
    "        'key.json', scope)\n",
    "    gs = gspread.authorize(credentials)\n",
    "\n",
    "    table_name = 'HH'\n",
    "    sheet = gs.create('HH')\n",
    "\n",
    "    sheet.share(my_mail, perm_type='user', role='writer')\n",
    "\n",
    "    spreadsheet_name = 'HH'\n",
    "    sheet = 'HH'\n",
    "    d2g.upload(df, table_name, sheet, credentials=credentials, row_names=True)\n",
    "    print('Выполнено')\n",
    "\n",
    "except FileNotFoundError:\n",
    "    print('json не найден!')\n",
    "\n"
   ]
  },
  {
   "cell_type": "code",
   "execution_count": null,
   "metadata": {},
   "outputs": [],
   "source": []
  }
 ],
 "metadata": {
  "kernelspec": {
   "display_name": "Python 3 (ipykernel)",
   "language": "python",
   "name": "python3"
  },
  "language_info": {
   "codemirror_mode": {
    "name": "ipython",
    "version": 3
   },
   "file_extension": ".py",
   "mimetype": "text/x-python",
   "name": "python",
   "nbconvert_exporter": "python",
   "pygments_lexer": "ipython3",
   "version": "3.11.1"
  }
 },
 "nbformat": 4,
 "nbformat_minor": 4
}

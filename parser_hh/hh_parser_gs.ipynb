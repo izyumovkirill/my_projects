{
 "cells": [
  {
   "cell_type": "code",
   "execution_count": 10,
   "id": "35f09ddc",
   "metadata": {},
   "outputs": [
    {
     "name": "stderr",
     "output_type": "stream",
     "text": [
      "Парсим по запросу 'Аналитик данных' and 'data analyst': 20it [00:01, 19.01it/s]\n"
     ]
    },
    {
     "name": "stdout",
     "output_type": "stream",
     "text": [
      "Парсинг выполнен в 2023-03-09 21:24:23.686556\n"
     ]
    },
    {
     "data": {
      "text/plain": [
       "\"# Выгрузка в Google Sheets\\nscope = ['https://spreadsheets.google.com/feeds',\\n         'https://www.googleapis.com/auth/drive']\\n\\nmy_mail = 'your_mail'  # почта\\npath_to_credentials = 'crdentials.json'\\n\\n# Authorization\\ncredentials = ServiceAccountCredentials.from_json_keyfile_name(\\n    'your_keyfile_name.json', scope)\\ngs = gspread.authorize(credentials)\\n\\ntable_name = 'HH'\\nsheet = gs.create('HH')\\n\\nsheet.share(my_mail, perm_type='user', role='writer')\\n\\nspreadsheet_name = 'HH'\\nsheet = 'HH'\\nd2g.upload(df, table_name, sheet, credentials=credentials, row_names=True)\\nprint('Парсинг выполнен в', pd.Timestamp.now())\\n\""
      ]
     },
     "execution_count": 10,
     "metadata": {},
     "output_type": "execute_result"
    }
   ],
   "source": [
    "import pandas as pd\n",
    "import json\n",
    "import requests\n",
    "from tqdm import tqdm\n",
    "import time\n",
    "from df2gspread import df2gspread as d2g\n",
    "from oauth2client.service_account import ServiceAccountCredentials\n",
    "from concurrent.futures import ThreadPoolExecutor, as_completed\n",
    "\n",
    "job_title = \"'Аналитик данных' and 'data analyst'\"\n",
    "area = 1\n",
    "\n",
    "\n",
    "def getPage(page=0):\n",
    "    params = {\n",
    "        'text': job_title,\n",
    "        'area': area,\n",
    "        'page': page,\n",
    "        'per_page': 100\n",
    "    }\n",
    "    req = requests.get('https://api.hh.ru/vacancies', params)\n",
    "    req.raise_for_status()  # проверяем статус ответа на ошибки\n",
    "    data = req.json()  # используем метод json() для декодирования JSON-ответа\n",
    "    req.close()\n",
    "    return data\n",
    "\n",
    "\n",
    "def parse_page(page):\n",
    "    jsObj = getPage(page)\n",
    "    return jsObj['items']\n",
    "\n",
    "\n",
    "with ThreadPoolExecutor(max_workers=10) as executor:\n",
    "    futures = [executor.submit(parse_page, page) for page in range(0, 20)]\n",
    "    data = []\n",
    "    for future in tqdm(as_completed(futures), desc='Парсим по запросу ' + job_title):\n",
    "        data.extend(future.result())\n",
    "\n",
    "df = pd.json_normalize(data).rename(columns=lambda c: c.replace('.', '_'))\n",
    "\n",
    "df = df[['id', 'name',\n",
    "         'published_at',\n",
    "         'url',\n",
    "         'area_name',\n",
    "         'salary_from',\n",
    "         'salary_to',\n",
    "         'salary_currency',\n",
    "         'employer_name',\n",
    "         'employer_url',\n",
    "         'snippet_requirement',\n",
    "         'snippet_responsibility',\n",
    "         'address_raw', 'address_lat',\n",
    "         'address_lng', 'address_metro_station_name']]\n",
    "\n",
    "\n",
    "def highlighttext(column):\n",
    "    return column.str.replace('[<\\>\\/]', '', regex=True).str.replace('highlighttext', '', regex=True)\n",
    "\n",
    "\n",
    "df.snippet_responsibility = highlighttext(df.snippet_responsibility)\n",
    "df.snippet_requirement = highlighttext(df.snippet_requirement)\n",
    "\n",
    "timestr = time.strftime(\"%Y%m%d-%H%M%S\")\n",
    "csv_name = job_title + \".csv\"\n",
    "csv_name_with_timestamp = job_title + timestr + \".csv\"\n",
    "df.to_csv(csv_name, index=False)\n",
    "print('Парсинг выполнен' + ' в', pd.Timestamp.now())\n",
    "\n",
    "\"\"\"# Выгрузка в Google Sheets\n",
    "scope = ['https://spreadsheets.google.com/feeds',\n",
    "         'https://www.googleapis.com/auth/drive']\n",
    "\n",
    "my_mail = 'your_mail'  # почта\n",
    "path_to_credentials = 'crdentials.json'\n",
    "\n",
    "# Authorization\n",
    "credentials = ServiceAccountCredentials.from_json_keyfile_name(\n",
    "    'your_keyfile_name.json', scope)\n",
    "gs = gspread.authorize(credentials)\n",
    "\n",
    "table_name = 'HH'\n",
    "sheet = gs.create('HH')\n",
    "\n",
    "sheet.share(my_mail, perm_type='user', role='writer')\n",
    "\n",
    "spreadsheet_name = 'HH'\n",
    "sheet = 'HH'\n",
    "d2g.upload(df, table_name, sheet, credentials=credentials, row_names=True)\n",
    "print('Парсинг выполнен в', pd.Timestamp.now())\n",
    "\"\"\""
   ]
  }
 ],
 "metadata": {
  "kernelspec": {
   "display_name": "Python 3",
   "language": "python",
   "name": "python3"
  },
  "language_info": {
   "codemirror_mode": {
    "name": "ipython",
    "version": 3
   },
   "file_extension": ".py",
   "mimetype": "text/x-python",
   "name": "python",
   "nbconvert_exporter": "python",
   "pygments_lexer": "ipython3",
   "version": "3.11.1"
  },
  "vscode": {
   "interpreter": {
    "hash": "7d22b4072258c52a5f933bffbd4ef935e10846d1853a4e3c4ef3f838a383745d"
   }
  }
 },
 "nbformat": 4,
 "nbformat_minor": 5
}

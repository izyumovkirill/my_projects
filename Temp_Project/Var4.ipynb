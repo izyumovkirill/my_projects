{
 "cells": [
  {
   "cell_type": "code",
   "execution_count": 1,
   "metadata": {},
   "outputs": [],
   "source": [
    "import pandas as pd\n",
    "import numpy as np\n",
    "from math import sqrt\n",
    "import seaborn as sns\n",
    "import plotly.express as px\n",
    "from tqdm.auto import tqdm\n",
    "from scipy.stats import norm, chi2_contingency, chi2\n",
    "%matplotlib inline"
   ]
  },
  {
   "cell_type": "code",
   "execution_count": 23,
   "metadata": {},
   "outputs": [
    {
     "name": "stdout",
     "output_type": "stream",
     "text": [
      "   user_id country platform     sex\n",
      "0     8029  Russia      ios    male\n",
      "1     1735  Sweden      ios    male\n",
      "2     7697  Russia  android    male\n",
      "3     1421  Sweden  android  female\n",
      "4     1704  Russia      ios    male\n",
      "   user_id group\n",
      "0     9149     B\n",
      "1     9150     B\n",
      "2     9151     A\n",
      "3     9152     B\n",
      "4     9153     B\n",
      "   user_id  revenue\n",
      "0     4412   1000.0\n",
      "1     9000    701.0\n",
      "2     9001    700.0\n",
      "3     9002    702.0\n",
      "4     5790   1002.0\n"
     ]
    }
   ],
   "source": [
    "# Посмотрим на данные \n",
    "users_df = pd.read_csv('https://getfile.dokpub.com/yandex/get/https://disk.yandex.ru/d/B4QnY5D5EtKa-A')\n",
    "groups_df = pd.read_csv('https://getfile.dokpub.com/yandex/get/https://disk.yandex.ru/d/jP_BAw_oxS3law')\n",
    "purchases_df = pd.read_csv('https://getfile.dokpub.com/yandex/get/https://disk.yandex.ru/d/AmucCdboEaowhA')\n",
    "\n",
    "\n",
    "print(users_df.head())\n",
    "print(groups_df.head())\n",
    "print(purchases_df.head())"
   ]
  },
  {
   "cell_type": "code",
   "execution_count": 25,
   "metadata": {},
   "outputs": [
    {
     "name": "stdout",
     "output_type": "stream",
     "text": [
      "user_df data types are:\n",
      " user_id      int64\n",
      "country     object\n",
      "platform    object\n",
      "sex         object\n",
      "dtype: object\n",
      "\n",
      "groups_df data types are:\n",
      " user_id     int64\n",
      "group      object\n",
      "dtype: object\n",
      "\n",
      "purchases_df data types are:\n",
      " user_id      int64\n",
      "revenue    float64\n",
      "dtype: object\n"
     ]
    }
   ],
   "source": [
    "\n",
    "print('user_df data types are:' + '\\n', users_df.dtypes)\n",
    "print('\\n' + 'groups_df data types are:' + '\\n', groups_df.dtypes)\n",
    "print('\\n' + 'purchases_df data types are:' + '\\n', purchases_df.dtypes)"
   ]
  },
  {
   "cell_type": "code",
   "execution_count": 27,
   "metadata": {},
   "outputs": [
    {
     "data": {
      "text/html": [
       "<div>\n",
       "<style scoped>\n",
       "    .dataframe tbody tr th:only-of-type {\n",
       "        vertical-align: middle;\n",
       "    }\n",
       "\n",
       "    .dataframe tbody tr th {\n",
       "        vertical-align: top;\n",
       "    }\n",
       "\n",
       "    .dataframe thead th {\n",
       "        text-align: right;\n",
       "    }\n",
       "</style>\n",
       "<table border=\"1\" class=\"dataframe\">\n",
       "  <thead>\n",
       "    <tr style=\"text-align: right;\">\n",
       "      <th></th>\n",
       "      <th>user_id</th>\n",
       "      <th>country</th>\n",
       "      <th>platform</th>\n",
       "      <th>sex</th>\n",
       "      <th>group</th>\n",
       "      <th>revenue</th>\n",
       "    </tr>\n",
       "  </thead>\n",
       "  <tbody>\n",
       "    <tr>\n",
       "      <th>0</th>\n",
       "      <td>8029</td>\n",
       "      <td>Russia</td>\n",
       "      <td>ios</td>\n",
       "      <td>male</td>\n",
       "      <td>B</td>\n",
       "      <td>NaN</td>\n",
       "    </tr>\n",
       "    <tr>\n",
       "      <th>1</th>\n",
       "      <td>1735</td>\n",
       "      <td>Sweden</td>\n",
       "      <td>ios</td>\n",
       "      <td>male</td>\n",
       "      <td>B</td>\n",
       "      <td>NaN</td>\n",
       "    </tr>\n",
       "    <tr>\n",
       "      <th>2</th>\n",
       "      <td>7697</td>\n",
       "      <td>Russia</td>\n",
       "      <td>android</td>\n",
       "      <td>male</td>\n",
       "      <td>B</td>\n",
       "      <td>NaN</td>\n",
       "    </tr>\n",
       "    <tr>\n",
       "      <th>3</th>\n",
       "      <td>1421</td>\n",
       "      <td>Sweden</td>\n",
       "      <td>android</td>\n",
       "      <td>female</td>\n",
       "      <td>B</td>\n",
       "      <td>NaN</td>\n",
       "    </tr>\n",
       "    <tr>\n",
       "      <th>4</th>\n",
       "      <td>1704</td>\n",
       "      <td>Russia</td>\n",
       "      <td>ios</td>\n",
       "      <td>male</td>\n",
       "      <td>B</td>\n",
       "      <td>NaN</td>\n",
       "    </tr>\n",
       "    <tr>\n",
       "      <th>...</th>\n",
       "      <td>...</td>\n",
       "      <td>...</td>\n",
       "      <td>...</td>\n",
       "      <td>...</td>\n",
       "      <td>...</td>\n",
       "      <td>...</td>\n",
       "    </tr>\n",
       "    <tr>\n",
       "      <th>8336</th>\n",
       "      <td>2417</td>\n",
       "      <td>Sweden</td>\n",
       "      <td>ios</td>\n",
       "      <td>female</td>\n",
       "      <td>B</td>\n",
       "      <td>NaN</td>\n",
       "    </tr>\n",
       "    <tr>\n",
       "      <th>8337</th>\n",
       "      <td>3755</td>\n",
       "      <td>Russia</td>\n",
       "      <td>ios</td>\n",
       "      <td>male</td>\n",
       "      <td>A</td>\n",
       "      <td>590.0</td>\n",
       "    </tr>\n",
       "    <tr>\n",
       "      <th>8338</th>\n",
       "      <td>4594</td>\n",
       "      <td>Sweden</td>\n",
       "      <td>android</td>\n",
       "      <td>female</td>\n",
       "      <td>B</td>\n",
       "      <td>NaN</td>\n",
       "    </tr>\n",
       "    <tr>\n",
       "      <th>8339</th>\n",
       "      <td>7430</td>\n",
       "      <td>Sweden</td>\n",
       "      <td>ios</td>\n",
       "      <td>female</td>\n",
       "      <td>B</td>\n",
       "      <td>NaN</td>\n",
       "    </tr>\n",
       "    <tr>\n",
       "      <th>8340</th>\n",
       "      <td>2460</td>\n",
       "      <td>Russia</td>\n",
       "      <td>android</td>\n",
       "      <td>female</td>\n",
       "      <td>B</td>\n",
       "      <td>NaN</td>\n",
       "    </tr>\n",
       "  </tbody>\n",
       "</table>\n",
       "<p>8341 rows × 6 columns</p>\n",
       "</div>"
      ],
      "text/plain": [
       "      user_id country platform     sex group  revenue\n",
       "0        8029  Russia      ios    male     B      NaN\n",
       "1        1735  Sweden      ios    male     B      NaN\n",
       "2        7697  Russia  android    male     B      NaN\n",
       "3        1421  Sweden  android  female     B      NaN\n",
       "4        1704  Russia      ios    male     B      NaN\n",
       "...       ...     ...      ...     ...   ...      ...\n",
       "8336     2417  Sweden      ios  female     B      NaN\n",
       "8337     3755  Russia      ios    male     A    590.0\n",
       "8338     4594  Sweden  android  female     B      NaN\n",
       "8339     7430  Sweden      ios  female     B      NaN\n",
       "8340     2460  Russia  android  female     B      NaN\n",
       "\n",
       "[8341 rows x 6 columns]"
      ]
     },
     "execution_count": 27,
     "metadata": {},
     "output_type": "execute_result"
    }
   ],
   "source": [
    " # Соберём все данные о пользователях, посещавших приложение во время эксперимента, в один df\n",
    "\n",
    "df1 = users_df.merge(groups_df, how='left', on='user_id')\n",
    "df = df1.merge(purchases_df, how='left', on='user_id')\n",
    "\n",
    "\n",
    "df"
   ]
  },
  {
   "cell_type": "code",
   "execution_count": null,
   "metadata": {},
   "outputs": [],
   "source": []
  },
  {
   "cell_type": "code",
   "execution_count": null,
   "metadata": {},
   "outputs": [],
   "source": [
    "# Посмторим, были ли повторные покупки\n",
    "\n",
    "df.groupby('user_id').agg({'revenue': 'count'}).sort_values('revenue', ascending=False).head()"
   ]
  },
  {
   "cell_type": "code",
   "execution_count": null,
   "metadata": {},
   "outputs": [],
   "source": [
    " # повторных покупок не было"
   ]
  },
  {
   "cell_type": "code",
   "execution_count": null,
   "metadata": {},
   "outputs": [],
   "source": [
    "# Разобьём df на контрольную (А) и тестовую (В) группы\n",
    "\n",
    "control = df.query('group == \"A\"')\n",
    "test = df.query('group == \"B\"')\n",
    "\n",
    "\n",
    "print(control)\n",
    "print('\\n', test)"
   ]
  },
  {
   "cell_type": "code",
   "execution_count": null,
   "metadata": {},
   "outputs": [],
   "source": [
    " # Проверим равномерность разбиеня на группы по полу, стране и платформе"
   ]
  },
  {
   "cell_type": "code",
   "execution_count": null,
   "metadata": {},
   "outputs": [],
   "source": [
    " # По полу:\n",
    "\n",
    "df_sex = df.groupby(['group', 'sex'], as_index=False).agg({'user_id': 'count'})\n",
    "sns.barplot(x=df_sex.user_id, y=df_sex.group, hue=df_sex.sex)"
   ]
  },
  {
   "cell_type": "code",
   "execution_count": null,
   "metadata": {},
   "outputs": [],
   "source": [
    " # По платформе:\n",
    "\n",
    "df_platform = df.groupby(['group', 'platform'], as_index=False).agg({'user_id': 'count'})\n",
    "sns.barplot(x=df_platform.user_id, y=df_platform.group, hue=df_platform.platform)"
   ]
  },
  {
   "cell_type": "code",
   "execution_count": null,
   "metadata": {},
   "outputs": [],
   "source": [
    " # Разбиение по полу и платформе выглядит равномерным"
   ]
  },
  {
   "cell_type": "code",
   "execution_count": 28,
   "metadata": {},
   "outputs": [
    {
     "data": {
      "text/plain": [
       "<AxesSubplot:xlabel='user_id', ylabel='group'>"
      ]
     },
     "execution_count": 28,
     "metadata": {},
     "output_type": "execute_result"
    },
    {
     "data": {
      "image/png": "[encoded data removed]",
      "text/plain": [
       "<Figure size 432x288 with 1 Axes>"
      ]
     },
     "metadata": {
      "needs_background": "light"
     },
     "output_type": "display_data"
    }
   ],
   "source": [
    " # По странам\n",
    "\n",
    "df_country = df.groupby(['group', 'country'], as_index=False).agg({'user_id': 'count'})\n",
    "sns.barplot(x=df_country.user_id, y=df_country.group, hue=df_country.country)"
   ]
  },
  {
   "cell_type": "code",
   "execution_count": null,
   "metadata": {},
   "outputs": [],
   "source": []
  },
  {
   "cell_type": "code",
   "execution_count": null,
   "metadata": {},
   "outputs": [],
   "source": [
    "# По графику кажется, что разбиение на группы по странам диспропорционально\n",
    "# Посмотрим внимательнее на соотношение пользователей из разных стран\n",
    "# Рассчитаем соотношение между пользователями из России и Швеции в общей выборке, контрольной и тестовой группах\n",
    "\n",
    "all_by_country = df.groupby(['country'], as_index=False).agg({'user_id': 'count'})\n",
    "all_by_country['ratio'] = round(all_by_country.user_id / all_by_country.user_id.sum(), 2)\n",
    "print('for all users:' + '\\n', all_by_country)\n",
    "\n",
    "\n",
    "df_country['ratio'] = df_country.groupby('group')\\\n",
    "    .apply(lambda df_country: df_country.user_id / df_country.user_id.sum()).values.round(2)\n",
    "print('\\n' + 'for control and test groups:' + '\\n', df_country)"
   ]
  },
  {
   "cell_type": "code",
   "execution_count": null,
   "metadata": {},
   "outputs": [],
   "source": [
    "# Проверим гипотезу о том, что соотношение стран в контрольной группе отличается от соотношения \n",
    "# в общем пуле пользователей с помощью критерия хи-квадрат\n",
    "\n",
    "\n",
    "obs = np.array([[915, 623], [4492, 2311]])\n",
    "chi2, p, dof, expected = chi2_contingency(obs)\n",
    "print(p)"
   ]
  },
  {
   "cell_type": "code",
   "execution_count": null,
   "metadata": {},
   "outputs": [],
   "source": [
    " # p-value<0.05, следовательно в контрольной группе нарушено соотношение между пользователями из России и Швеции\n",
    "# Сначала проведём A/B тест на всех пользователях, а затем проверим отдельно пользователей из разных стран"
   ]
  },
  {
   "cell_type": "code",
   "execution_count": null,
   "metadata": {},
   "outputs": [],
   "source": [
    " # В A/B тесте будем отслеживать средний чек и конверсию"
   ]
  },
  {
   "cell_type": "code",
   "execution_count": null,
   "metadata": {},
   "outputs": [],
   "source": [
    " # Сначала посмотрим, на распределение среднего чека"
   ]
  },
  {
   "cell_type": "code",
   "execution_count": null,
   "metadata": {},
   "outputs": [],
   "source": [
    "sns.distplot(control.revenue)\n",
    "sns.distplot(test.revenue)"
   ]
  },
  {
   "cell_type": "code",
   "execution_count": null,
   "metadata": {},
   "outputs": [],
   "source": [
    " px.histogram(df, x=\"revenue\", color=\"group\", marginal=\"box\", opacity=0.75, barmode='group',\n",
    "             hover_data=df.columns)"
   ]
  },
  {
   "cell_type": "code",
   "execution_count": null,
   "metadata": {},
   "outputs": [],
   "source": [
    " # Видим, что распределение признака в обеих группах значительно отличается от нормального\n",
    "# В группе А распределение напоминает гамма-распределение,\n",
    "# а группе B среднее значительно смещено вправо, по сравнению с группой A\n",
    "# Выдвинем гипотезу о том, что новая модель оплаты увеличивает средний чек\n",
    "\n",
    "# Для проверки этой гипотезы воспользуемся бутстрапом, поскольку так мы сможем сымитировать \n",
    "# нормальное распределение и оценить доверительный интервал для среднего"
   ]
  },
  {
   "cell_type": "code",
   "execution_count": null,
   "metadata": {},
   "outputs": [],
   "source": [
    "# Объявим функцию, которая позволит проверять гипотезы с помощью бутстрапа\n",
    "\n",
    "\n",
    "def get_bootstrap(\n",
    "    data_column_1,  # числовые значения первой выборки\n",
    "    data_column_2,  # числовые значения второй выборки\n",
    "    statistic,  # интересующая нас статистика\n",
    "    bootstrap_conf_level=0.95,  # уровень значимости\n",
    "    boot_it=1000  # количество бутстрэп-подвыборок\n",
    "):\n",
    "    boot_len = max([len(data_column_1), len(data_column_2)])\n",
    "    boot_data = []\n",
    "    for i in tqdm(range(boot_it)):  # извлекаем подвыборки\n",
    "        samples_1 = data_column_1.sample(\n",
    "            boot_len,\n",
    "            replace=True  # параметр возвращения\n",
    "        ).values\n",
    "        samples_2 = data_column_2.sample(\n",
    "            boot_len,\n",
    "            replace=True\n",
    "        ).values\n",
    "        boot_data.append(statistic(samples_1 - samples_2))\n",
    "    pd_boot_data = pd.DataFrame(boot_data)\n",
    "    left_quant = (1 - bootstrap_conf_level) / 2\n",
    "    right_quant = 1 - (1 - bootstrap_conf_level) / 2\n",
    "    ci = pd_boot_data.quantile([left_quant, right_quant])\n",
    "    p_1 = norm.cdf(\n",
    "        x=0,\n",
    "        loc=np.mean(boot_data),\n",
    "        scale=np.std(boot_data)\n",
    "    )\n",
    "    p_2 = norm.cdf(\n",
    "        x=0,\n",
    "        loc=- np.mean(boot_data),\n",
    "        scale=np.std(boot_data)\n",
    "    )\n",
    "    p_value = min(p_1, p_2) * 2\n",
    "\n",
    "# Визуализация\n",
    "    sns.distplot(pd_boot_data[0])\n",
    "\n",
    "    return {\"ci\": ci,\n",
    "            \"p_value\": p_value}\n",
    "\n",
    "\n",
    "control_for_bs = control.loc[control.revenue.notnull()].revenue\n",
    "test_for_bs = test.loc[test.revenue.notnull()].revenue\n",
    "\n",
    "\n",
    "get_bootstrap(control_for_bs, test_for_bs, statistic=np.mean)"
   ]
  },
  {
   "cell_type": "code",
   "execution_count": null,
   "metadata": {},
   "outputs": [],
   "source": [
    "# полученное распределение близко к нормальному, 0 не попадает в доверительный интервал,\n",
    "# следовательно можем отклонить нулевую гипотезу и \n",
    "# сделать вывод о статистически значимых различиях средних значений в контрольной и тестовой группах"
   ]
  },
  {
   "cell_type": "code",
   "execution_count": null,
   "metadata": {},
   "outputs": [],
   "source": [
    "# Теперь, поскольку изначальное деление пользователей между группами не было честным,\n",
    "# рассмотрим отдельно пользователей из России и Швеции, чтобы понять, могло ли неправильное сплитование \n",
    "# значимо исказить результат"
   ]
  },
  {
   "cell_type": "code",
   "execution_count": null,
   "metadata": {},
   "outputs": [],
   "source": [
    "# Выделим пользователей из России\n",
    "\n",
    "control_rus = df.query(\"country == 'Russia' and group == 'A'\")\n",
    "test_rus = df.query(\"country == 'Russia' and group == 'B'\")\n",
    "\n",
    "\n",
    "sns.distplot(control_rus.revenue)\n",
    "sns.distplot(test_rus.revenue)"
   ]
  },
  {
   "cell_type": "code",
   "execution_count": null,
   "metadata": {},
   "outputs": [],
   "source": [
    " control_for_bs_rus = control_rus.loc[control_rus.revenue.notnull()].revenue\n",
    "test_for_bs_rus = test_rus.loc[test_rus.revenue.notnull()].revenue\n",
    "\n",
    "\n",
    "get_bootstrap(control_for_bs_rus, test_for_bs_rus, statistic=np.mean)"
   ]
  },
  {
   "cell_type": "code",
   "execution_count": null,
   "metadata": {},
   "outputs": [],
   "source": [
    "# Выделим пользователей из Швеции\n",
    "\n",
    "control_swe = df.query(\"country =='Sweden' and group == 'A'\")\n",
    "test_swe = df.query(\"country == 'Sweden' and group == 'B'\")\n",
    "\n",
    "\n",
    "sns.distplot(control_swe.revenue)\n",
    "sns.distplot(test_swe.revenue)"
   ]
  },
  {
   "cell_type": "code",
   "execution_count": null,
   "metadata": {},
   "outputs": [],
   "source": [
    " control_for_bs_swe = control_swe.loc[control_swe.revenue.notnull()].revenue\n",
    "test_for_bs_swe = test_swe.loc[test_swe.revenue.notnull()].revenue\n",
    "\n",
    "\n",
    "get_bootstrap(control_for_bs_swe, test_for_bs_swe, statistic=np.mean)"
   ]
  },
  {
   "cell_type": "code",
   "execution_count": null,
   "metadata": {},
   "outputs": [],
   "source": [
    "# вторая метрика: конверсия в покупку\n",
    "\n",
    "def calc_cr(df):\n",
    "    df['cr'] = df.revenue / df.user_id.count()\n",
    "    df_cr = df.groupby('group', as_index=False).agg({'cr': 'count'})\n",
    "    df_total = df.groupby('group', as_index=False).agg({'user_id': 'count'})\n",
    "    cr_a = df_cr.loc[df_cr.group == 'A'].cr / df_total.loc[df_total.group == 'A'].user_id\n",
    "    cr_b = df_cr.loc[df_cr.group == 'B'].cr / df_total.loc[df_total.group == 'B'].user_id\n",
    "    return {'cr in group A is': cr_a.round(3), 'cr in group B is': cr_b.round(3)}\n",
    "\n",
    "\n",
    "calc_cr(df)"
   ]
  },
  {
   "cell_type": "code",
   "execution_count": null,
   "metadata": {},
   "outputs": [],
   "source": [
    " # Кажется, конверсия немного снизилась в группе В\n",
    "# Проверим, является ли это изменение статистически значимым\n",
    "# Для этого рассчитаем 95% доверительный интервал для разности конверсий в группах А и В\n",
    "\n",
    "def ci_for_cr_diff(cr_a, cr_b, n_a, n_b):\n",
    "    left_margin = abs(cr_a - cr_b) - 1.96 * sqrt(cr_a * (1 - cr_a) / n_a + cr_b * (1 - cr_b) / n_b)\n",
    "    right_margin = abs(cr_a - cr_b) + 1.96 * sqrt(cr_a * (1 - cr_a) / n_a + cr_b * (1 - cr_b) / n_b)\n",
    "    return {'ci': [left_margin, right_margin]}\n",
    "\n",
    "\n",
    "ci_for_cr_diff(0.051, 0.046, 1538, 6803)"
   ]
  },
  {
   "cell_type": "code",
   "execution_count": null,
   "metadata": {},
   "outputs": [],
   "source": [
    " # поскольку 0 попадает в доверительный интервал, не можем отвергнуть нулевую гипотезу\n",
    "# статистически значимых различий между конверсией в контрольной и тестовой группах не удалось обнаружить"
   ]
  },
  {
   "cell_type": "code",
   "execution_count": null,
   "metadata": {},
   "outputs": [],
   "source": [
    "# Посмотрим на конверсию для пользователей из России\n",
    "\n",
    "calc_cr(df.loc[df.country == 'Russia'])"
   ]
  },
  {
   "cell_type": "code",
   "execution_count": null,
   "metadata": {},
   "outputs": [],
   "source": [
    "ci_for_cr_diff(0.047, 0.044, 915, 4492)"
   ]
  },
  {
   "cell_type": "code",
   "execution_count": null,
   "metadata": {},
   "outputs": [],
   "source": [
    ":  # Посмотрим на конверсию для пользователей из Швеции\n",
    "\n",
    "calc_cr(df.loc[df.country == 'Sweden'])"
   ]
  },
  {
   "cell_type": "code",
   "execution_count": null,
   "metadata": {},
   "outputs": [],
   "source": [
    " ci_for_cr_diff(0.056, 0.051, 623, 2311)"
   ]
  },
  {
   "cell_type": "code",
   "execution_count": null,
   "metadata": {},
   "outputs": [],
   "source": [
    " # В обоих случаях конверсия статистически значимо не меняется"
   ]
  },
  {
   "cell_type": "code",
   "execution_count": null,
   "metadata": {},
   "outputs": [],
   "source": [
    "   # Выводы\n",
    "\n",
    "# 1. При проведении A/B-теста была нарушена равномерность сплитования и\n",
    "# в тестовую группу попало относительно больше пользователей из России.\n",
    "# Во избежание подобных ошибок следовало бы проводить A/A-тест\n",
    "\n",
    "# 2. В ходе A/B-теста оценивали 2 метрики: средний чек и конверсию в покупку.\n",
    "# Средний чек вырос в результате внедрения новой системы оплаты, изменения статзначимы\n",
    "# Конверсия статзначимо не изменилась\n",
    "\n",
    "# 3. Чтобы оценить возможное искажение результатов эксперимента в результате неравномерного разделения пользователей\n",
    "# на группы, пользователи из России и Швеции были проанализированы отдельно.\n",
    "# Результаты повторяют общую тенденцию: средний чек статзначимо вырос, конверсия статзначимо не изменилась\n",
    "\n",
    "# 4. По итогам A/B-теста можно внедрять новую платёжную систему для всех пользователей,\n",
    "# но в дальнейшем следует проводить A/A-тесты во избежание ошибок при сплитовании"
   ]
  },
  {
   "cell_type": "code",
   "execution_count": null,
   "metadata": {},
   "outputs": [],
   "source": []
  },
  {
   "cell_type": "code",
   "execution_count": null,
   "metadata": {},
   "outputs": [],
   "source": []
  },
  {
   "cell_type": "code",
   "execution_count": null,
   "metadata": {},
   "outputs": [],
   "source": []
  },
  {
   "cell_type": "code",
   "execution_count": null,
   "metadata": {},
   "outputs": [],
   "source": []
  }
 ],
 "metadata": {
  "kernelspec": {
   "display_name": "Python 3",
   "language": "python",
   "name": "python3"
  },
  "language_info": {
   "codemirror_mode": {
    "name": "ipython",
    "version": 3
   },
   "file_extension": ".py",
   "mimetype": "text/x-python",
   "name": "python",
   "nbconvert_exporter": "python",
   "pygments_lexer": "ipython3",
   "version": "3.8.5"
  }
 },
 "nbformat": 4,
 "nbformat_minor": 4
}

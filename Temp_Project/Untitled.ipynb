{
 "cells": [
  {
   "cell_type": "code",
   "execution_count": 1,
   "metadata": {},
   "outputs": [
    {
     "name": "stdout",
     "output_type": "stream",
     "text": [
      "Collecting plotly.express\n",
      "  Downloading plotly_express-0.4.1-py2.py3-none-any.whl (2.9 kB)\n",
      "Requirement already satisfied: patsy>=0.5 in c:\\users\\kiril\\anaconda3\\lib\\site-packages (from plotly.express) (0.5.1)\n",
      "Requirement already satisfied: plotly>=4.1.0 in c:\\users\\kiril\\anaconda3\\lib\\site-packages (from plotly.express) (5.6.0)\n",
      "Requirement already satisfied: scipy>=0.18 in c:\\users\\kiril\\anaconda3\\lib\\site-packages (from plotly.express) (1.5.2)\n",
      "Requirement already satisfied: numpy>=1.11 in c:\\users\\kiril\\anaconda3\\lib\\site-packages (from plotly.express) (1.19.2)Note: you may need to restart the kernel to use updated packages.\n",
      "\n",
      "Requirement already satisfied: pandas>=0.20.0 in c:\\users\\kiril\\anaconda3\\lib\\site-packages (from plotly.express) (1.1.3)\n"
     ]
    },
    {
     "name": "stderr",
     "output_type": "stream",
     "text": [
      "WARNING: You are using pip version 21.3.1; however, version 22.0.3 is available.\n",
      "You should consider upgrading via the 'C:\\Users\\kiril\\anaconda3\\python.exe -m pip install --upgrade pip' command.\n"
     ]
    },
    {
     "name": "stdout",
     "output_type": "stream",
     "text": [
      "Requirement already satisfied: statsmodels>=0.9.0 in c:\\users\\kiril\\anaconda3\\lib\\site-packages (from plotly.express) (0.12.0)\n",
      "Requirement already satisfied: pytz>=2017.2 in c:\\users\\kiril\\anaconda3\\lib\\site-packages (from pandas>=0.20.0->plotly.express) (2020.1)\n",
      "Requirement already satisfied: python-dateutil>=2.7.3 in c:\\users\\kiril\\anaconda3\\lib\\site-packages (from pandas>=0.20.0->plotly.express) (2.8.1)\n",
      "Requirement already satisfied: six in c:\\users\\kiril\\anaconda3\\lib\\site-packages (from patsy>=0.5->plotly.express) (1.15.0)\n",
      "Requirement already satisfied: tenacity>=6.2.0 in c:\\users\\kiril\\anaconda3\\lib\\site-packages (from plotly>=4.1.0->plotly.express) (8.0.1)\n",
      "Installing collected packages: plotly.express\n",
      "Successfully installed plotly.express-0.4.1\n"
     ]
    }
   ],
   "source": [
    "pip install plotly.express"
   ]
  },
  {
   "cell_type": "code",
   "execution_count": null,
   "metadata": {},
   "outputs": [],
   "source": []
  }
 ],
 "metadata": {
  "kernelspec": {
   "display_name": "Python 3",
   "language": "python",
   "name": "python3"
  },
  "language_info": {
   "codemirror_mode": {
    "name": "ipython",
    "version": 3
   },
   "file_extension": ".py",
   "mimetype": "text/x-python",
   "name": "python",
   "nbconvert_exporter": "python",
   "pygments_lexer": "ipython3",
   "version": "3.8.5"
  }
 },
 "nbformat": 4,
 "nbformat_minor": 4
}
